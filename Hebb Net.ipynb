{
 "cells": [
  {
   "cell_type": "code",
   "execution_count": 1,
   "id": "922762bb-a15e-4f6f-be42-e5e461dc8366",
   "metadata": {},
   "outputs": [
    {
     "name": "stdout",
     "output_type": "stream",
     "text": [
      "Trained Weights: [2. 2.]\n",
      "Predictions: [ 1.  0.  0. -1.]\n"
     ]
    }
   ],
   "source": [
    "import numpy as np\n",
    "\n",
    "class HebbNet:\n",
    "    def __init__(self, input_size):\n",
    "        self.weights = np.zeros(input_size)\n",
    "\n",
    "    def train(self, X, Y):\n",
    "        \"\"\"\n",
    "        Train the network using Hebbian learning rule\n",
    "        X: Input data (NxM) where N = number of samples, M = number of features\n",
    "        Y: Output labels (-1 or 1)\n",
    "        \"\"\"\n",
    "        for i in range(len(X)):  \n",
    "            self.weights += X[i] * Y[i]\n",
    "\n",
    "    def predict(self, X):\n",
    "        \"\"\"\n",
    "        Predict output based on trained weights\n",
    "        \"\"\"\n",
    "        return np.sign(np.dot(X, self.weights))  # Activation function: sign(w·x)\n",
    "\n",
    "X = np.array([\n",
    "    [1, 1], \n",
    "    [1, -1], \n",
    "    [-1, 1], \n",
    "    [-1, -1]\n",
    "])\n",
    "\n",
    "Y = np.array([1, -1, -1, -1])  \n",
    "\n",
    "hebb_net = HebbNet(input_size=2)\n",
    "hebb_net.train(X, Y)\n",
    "\n",
    "test_input = np.array([[1, 1], [1, -1], [-1, 1], [-1, -1]])\n",
    "predictions = hebb_net.predict(test_input)\n",
    "\n",
    "print(\"Trained Weights:\", hebb_net.weights)\n",
    "print(\"Predictions:\", predictions)\n"
   ]
  },
  {
   "cell_type": "code",
   "execution_count": null,
   "id": "6f7655e8-a2c5-462b-95ca-b5a980d39a9d",
   "metadata": {},
   "outputs": [],
   "source": []
  }
 ],
 "metadata": {
  "kernelspec": {
   "display_name": "Python 3 (ipykernel)",
   "language": "python",
   "name": "python3"
  },
  "language_info": {
   "codemirror_mode": {
    "name": "ipython",
    "version": 3
   },
   "file_extension": ".py",
   "mimetype": "text/x-python",
   "name": "python",
   "nbconvert_exporter": "python",
   "pygments_lexer": "ipython3",
   "version": "3.12.4"
  }
 },
 "nbformat": 4,
 "nbformat_minor": 5
}
