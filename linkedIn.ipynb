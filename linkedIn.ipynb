{
 "cells": [
  {
   "cell_type": "markdown",
   "metadata": {},
   "source": [
    "# Title\n",
    "## Smaller title"
   ]
  },
  {
   "cell_type": "code",
   "execution_count": null,
   "metadata": {},
   "outputs": [],
   "source": []
  },
  {
   "cell_type": "code",
   "execution_count": 47,
   "metadata": {},
   "outputs": [
    {
     "data": {
      "text/plain": [
       "120"
      ]
     },
     "execution_count": 47,
     "metadata": {},
     "output_type": "execute_result"
    }
   ],
   "source": [
    "def factorial(num):\n",
    "    if type(num)!=int :\n",
    "        return None\n",
    "    if num<0 :\n",
    "        return None\n",
    "    if num==0:\n",
    "        return 1\n",
    "    \n",
    "    return num * factorial(num - 1)\n",
    "factorial(5)"
   ]
  },
  {
   "cell_type": "code",
   "execution_count": 8,
   "metadata": {},
   "outputs": [
    {
     "name": "stdout",
     "output_type": "stream",
     "text": [
      " 10.12\n"
     ]
    },
    {
     "name": "stdout",
     "output_type": "stream",
     "text": [
      "<class 'float'>\n",
      "<class 'int'>\n",
      "10 \n",
      "this is multi line string.\n",
      "this can be done by using 3(').\n",
      "      10.12\n",
      "10.12\n"
     ]
    }
   ],
   "source": [
    "a=float(input())\n",
    "print(type(a))\n",
    "s=int(a)\n",
    "print(type(s))\n",
    "print(s,'''\n",
    "this is multi line string.\n",
    "this can be done by using 3(').\n",
    "     ''',\n",
    "a)\n",
    "print(a)"
   ]
  },
  {
   "cell_type": "code",
   "execution_count": 15,
   "metadata": {},
   "outputs": [
    {
     "data": {
      "text/plain": [
       "12"
      ]
     },
     "execution_count": 15,
     "metadata": {},
     "output_type": "execute_result"
    }
   ],
   "source": [
    "int(12.2)"
   ]
  },
  {
   "cell_type": "code",
   "execution_count": 75,
   "metadata": {},
   "outputs": [],
   "source": [
    "def linear(arr,x):\n",
    "    flag=False\n",
    "    print(arr)\n",
    "    for i in range(0,n) :\n",
    "        if arr[i]==x:\n",
    "            print('found')\n",
    "            flag=True\n",
    "            break\n",
    "    if flag==False:\n",
    "       print('not found')"
   ]
  },
  {
   "cell_type": "code",
   "execution_count": 82,
   "metadata": {},
   "outputs": [
    {
     "name": "stdin",
     "output_type": "stream",
     "text": [
      "enter the no of elements in the aray: 4\n",
      "Enter the number: 1\n",
      "Enter the number: 2\n",
      "Enter the number: 3\n",
      "Enter the number: 4\n",
      "enter value to search: 4\n"
     ]
    },
    {
     "name": "stdout",
     "output_type": "stream",
     "text": [
      "Found\n"
     ]
    }
   ],
   "source": [
    "arr=[]\n",
    "n=int(input('enter the no of elements in the aray:'))\n",
    "for i in range(n):\n",
    "    arr.append(int(input('Enter the number:')))\n",
    "lin(arr)"
   ]
  },
  {
   "cell_type": "code",
   "execution_count": 81,
   "metadata": {},
   "outputs": [],
   "source": [
    "def lin(arr):\n",
    "    x=int(input('enter value to search:'))\n",
    "    if x in arr:\n",
    "        print('Found')\n",
    "    else:\n",
    "        print('Not found')"
   ]
  },
  {
   "cell_type": "code",
   "execution_count": 25,
   "metadata": {},
   "outputs": [],
   "source": [
    "class Dog :\n",
    "    def __init__(self,name):\n",
    "        self.name=name\n",
    "        self.leg=4\n",
    "    def speak(self):\n",
    "        print(self.name+' says listen to me')\n",
    "    def hear(self):\n",
    "        print(self.name+' says yes i\\'m listening')"
   ]
  },
  {
   "cell_type": "code",
   "execution_count": 26,
   "metadata": {},
   "outputs": [
    {
     "name": "stdout",
     "output_type": "stream",
     "text": [
      "Rossy says listen to me\n",
      "Tommy says yes i'm listening\n"
     ]
    }
   ],
   "source": [
    "d1=Dog('Rossy')\n",
    "d2=Dog('Tommy')\n",
    "d1.speak()\n",
    "d2.hear()"
   ]
  },
  {
   "cell_type": "code",
   "execution_count": 34,
   "metadata": {},
   "outputs": [
    {
     "name": "stdout",
     "output_type": "stream",
     "text": [
      "2 2.542\n"
     ]
    }
   ],
   "source": [
    "y=2.5424225\n",
    "print(int(y),round(y,3))"
   ]
  },
  {
   "cell_type": "code",
   "execution_count": 49,
   "metadata": {},
   "outputs": [
    {
     "name": "stdout",
     "output_type": "stream",
     "text": [
      "value of 4352721 if it were oct: 1168849   if it were base 11 is: 7646134\n",
      "value of 12ba3c in decimal is: 1227324\n"
     ]
    }
   ],
   "source": [
    "ab='12ba3c'\n",
    "cd='4352721'\n",
    "print('value of 4352721 if it were oct:',int(cd,8),'  if it were base 11 is:',int(cd,11))\n",
    "print('value of 12ba3c in decimal is:',int(ab,16))"
   ]
  },
  {
   "cell_type": "code",
   "execution_count": 50,
   "metadata": {},
   "outputs": [
    {
     "data": {
      "text/plain": [
       "b'\\x00\\x00\\x00\\x00'"
      ]
     },
     "execution_count": 50,
     "metadata": {},
     "output_type": "execute_result"
    }
   ],
   "source": [
    "bytes(4)"
   ]
  },
  {
   "cell_type": "code",
   "execution_count": 60,
   "metadata": {},
   "outputs": [
    {
     "data": {
      "text/plain": [
       "b'etsrqfef'"
      ]
     },
     "execution_count": 60,
     "metadata": {},
     "output_type": "execute_result"
    }
   ],
   "source": [
    "ef=bytes('etsrqfef','utf-8')\n",
    "ef"
   ]
  },
  {
   "cell_type": "code",
   "execution_count": 61,
   "metadata": {},
   "outputs": [
    {
     "data": {
      "text/plain": [
       "'etsrqfef'"
      ]
     },
     "execution_count": 61,
     "metadata": {},
     "output_type": "execute_result"
    }
   ],
   "source": [
    "ef.decode('utf-8')"
   ]
  },
  {
   "cell_type": "code",
   "execution_count": 69,
   "metadata": {},
   "outputs": [
    {
     "data": {
      "text/plain": [
       "'My name is'"
      ]
     },
     "execution_count": 69,
     "metadata": {},
     "output_type": "execute_result"
    }
   ],
   "source": [
    "name='My name is sanal'\n",
    "name[0:10]"
   ]
  },
  {
   "cell_type": "code",
   "execution_count": 70,
   "metadata": {},
   "outputs": [
    {
     "data": {
      "text/plain": [
       "'My name'"
      ]
     },
     "execution_count": 70,
     "metadata": {},
     "output_type": "execute_result"
    }
   ],
   "source": [
    "name[:7]"
   ]
  },
  {
   "cell_type": "code",
   "execution_count": 75,
   "metadata": {},
   "outputs": [
    {
     "data": {
      "text/plain": [
       "'My number is 57'"
      ]
     },
     "execution_count": 75,
     "metadata": {},
     "output_type": "execute_result"
    }
   ],
   "source": [
    "abc='My number is '+str(57)\n",
    "abc"
   ]
  },
  {
   "cell_type": "code",
   "execution_count": 80,
   "metadata": {},
   "outputs": [
    {
     "data": {
      "text/plain": [
       "'My number is 57'"
      ]
     },
     "execution_count": 80,
     "metadata": {},
     "output_type": "execute_result"
    }
   ],
   "source": [
    "bcd=f'My number is {int(50/2+(26/2)-(2**3)+27)}'\n",
    "bcd"
   ]
  },
  {
   "cell_type": "code",
   "execution_count": 83,
   "metadata": {},
   "outputs": [
    {
     "data": {
      "text/plain": [
       "[5, 6, 4, 7]"
      ]
     },
     "execution_count": 83,
     "metadata": {},
     "output_type": "execute_result"
    }
   ],
   "source": [
    "list1=[1,2,3,5,6,4,7]\n",
    "list1[3:]"
   ]
  },
  {
   "cell_type": "code",
   "execution_count": 84,
   "metadata": {},
   "outputs": [
    {
     "data": {
      "text/plain": [
       "[1, 2, 3, 5, 6, 4]"
      ]
     },
     "execution_count": 84,
     "metadata": {},
     "output_type": "execute_result"
    }
   ],
   "source": [
    "list1[0:6]"
   ]
  },
  {
   "cell_type": "code",
   "execution_count": 85,
   "metadata": {},
   "outputs": [
    {
     "data": {
      "text/plain": [
       "[1, 3, 6]"
      ]
     },
     "execution_count": 85,
     "metadata": {},
     "output_type": "execute_result"
    }
   ],
   "source": [
    "list1[0:6:2]"
   ]
  },
  {
   "cell_type": "code",
   "execution_count": 96,
   "metadata": {},
   "outputs": [
    {
     "data": {
      "text/plain": [
       "[0, 10, 20, 30, 40, 50, 60, 70, 80, 90]"
      ]
     },
     "execution_count": 96,
     "metadata": {},
     "output_type": "execute_result"
    }
   ],
   "source": [
    "list2=list(range(100))\n",
    "list2[::10]"
   ]
  },
  {
   "cell_type": "code",
   "execution_count": 95,
   "metadata": {},
   "outputs": [
    {
     "data": {
      "text/plain": [
       "[99, 89, 79, 69, 59, 49, 39, 29, 19, 9]"
      ]
     },
     "execution_count": 95,
     "metadata": {},
     "output_type": "execute_result"
    }
   ],
   "source": [
    "list3=list(range(100))\n",
    "list3[::-10]"
   ]
  },
  {
   "cell_type": "code",
   "execution_count": 1,
   "metadata": {},
   "outputs": [
    {
     "data": {
      "text/plain": [
       "{'a', 'b', 'c'}"
      ]
     },
     "execution_count": 1,
     "metadata": {},
     "output_type": "execute_result"
    }
   ],
   "source": [
    "set1={'a','b','c'}\n",
    "set1"
   ]
  },
  {
   "cell_type": "code",
   "execution_count": 2,
   "metadata": {},
   "outputs": [
    {
     "data": {
      "text/plain": [
       "['c', 'b', 'a']"
      ]
     },
     "execution_count": 2,
     "metadata": {},
     "output_type": "execute_result"
    }
   ],
   "source": [
    "myList=list(set1)\n",
    "myList"
   ]
  },
  {
   "cell_type": "code",
   "execution_count": 3,
   "metadata": {},
   "outputs": [
    {
     "data": {
      "text/plain": [
       "[1, 2, 3, 4]"
      ]
     },
     "execution_count": 3,
     "metadata": {},
     "output_type": "execute_result"
    }
   ],
   "source": [
    "tup=(1,2,3,4)\n",
    "list2=list(tup)\n",
    "list2"
   ]
  },
  {
   "cell_type": "code",
   "execution_count": 4,
   "metadata": {},
   "outputs": [
    {
     "name": "stdout",
     "output_type": "stream",
     "text": [
      "enter the number1 12\n",
      "enter the number2 78\n",
      "enter op /\n"
     ]
    },
    {
     "name": "stdout",
     "output_type": "stream",
     "text": [
      "0.15384615384615385\n"
     ]
    }
   ],
   "source": [
    "n1=int(input('enter the number1'))\n",
    "n2=int(input('enter the number2'))\n",
    "ch=input('enter op')\n",
    "if ch== '+':\n",
    "    print(n1+n2)\n",
    "elif ch== '-':\n",
    "    print(n1-n2)\n",
    "elif ch== '*':\n",
    "    print(n1*n2)\n",
    "elif ch=='/':\n",
    "    print(n1/n2)\n",
    "else:\n",
    "    print('error')"
   ]
  },
  {
   "cell_type": "code",
   "execution_count": 83,
   "metadata": {},
   "outputs": [
    {
     "name": "stdout",
     "output_type": "stream",
     "text": [
      "enter input: 11\n"
     ]
    },
    {
     "name": "stdout",
     "output_type": "stream",
     "text": [
      "Number is prime\n"
     ]
    }
   ],
   "source": [
    "pm=int(input('enter input:'))\n",
    "flag=1\n",
    "for i in range(2,(int(pm/2)+1)):\n",
    "    if (pm%i)==0:\n",
    "        flag=0\n",
    "        print('number is not prime')\n",
    "        break\n",
    "    i=i+1\n",
    "if flag==1:\n",
    "    print('Number is prime')\n"
   ]
  },
  {
   "cell_type": "markdown",
   "metadata": {},
   "source": [
    "#### Non-preemptive scheduling\n"
   ]
  },
  {
   "cell_type": "code",
   "execution_count": 82,
   "metadata": {},
   "outputs": [
    {
     "name": "stdout",
     "output_type": "stream",
     "text": [
      "enter no of processes: 4\n"
     ]
    },
    {
     "name": "stdout",
     "output_type": "stream",
     "text": [
      "enter the bt of processes in order:\n",
      "p 0\n"
     ]
    },
    {
     "name": "stdout",
     "output_type": "stream",
     "text": [
      " 4\n"
     ]
    },
    {
     "name": "stdout",
     "output_type": "stream",
     "text": [
      "p 1\n"
     ]
    },
    {
     "name": "stdout",
     "output_type": "stream",
     "text": [
      " 3\n"
     ]
    },
    {
     "name": "stdout",
     "output_type": "stream",
     "text": [
      "p 2\n"
     ]
    },
    {
     "name": "stdout",
     "output_type": "stream",
     "text": [
      " 2\n"
     ]
    },
    {
     "name": "stdout",
     "output_type": "stream",
     "text": [
      "p 3\n"
     ]
    },
    {
     "name": "stdout",
     "output_type": "stream",
     "text": [
      " 1\n"
     ]
    },
    {
     "name": "stdout",
     "output_type": "stream",
     "text": [
      "avgwt= 5.0\n",
      "avgtt= 7.5\n",
      "\n",
      "PID\t TT\t WT\n",
      "\n",
      "p 0 \t 4 \t 0 \n",
      "\n",
      "p 1 \t 7 \t 4 \n",
      "\n",
      "p 2 \t 9 \t 7 \n",
      "\n",
      "p 3 \t 10 \t 9 \n",
      "\n"
     ]
    }
   ],
   "source": [
    "def fcfs() :\n",
    "    a=int(input('enter no of processes:'))\n",
    "    bt=[]\n",
    "    wt=[0]\n",
    "    avgwt=0\n",
    "    avgtt=0\n",
    "    tt=[]\n",
    "    print('enter the bt of processes in order:')\n",
    "    for i in range(0,a):\n",
    "        print('p',i)\n",
    "        bt.append(int(input()))\n",
    "        i=i+1\n",
    "    for i in range(1,a):\n",
    "        wt.append(wt[i-1]+bt[i-1])\n",
    "        avgwt+=wt[i]\n",
    "        i=i+1\n",
    "    print('avgwt=',avgwt/a)\n",
    "    for i in range(0,a):\n",
    "        tt.append(wt[i]+bt[i])\n",
    "        avgtt+=tt[i]\n",
    "        i=i+1\n",
    "    print('avgtt=',avgtt/a)\n",
    "    print('\\nPID\\t TT\\t WT\\n')\n",
    "    for i in range(0,a):\n",
    "        print('p',i,'\\t' ,tt[i],'\\t', wt[i],'\\n')\n",
    "fcfs()"
   ]
  },
  {
   "cell_type": "code",
   "execution_count": null,
   "metadata": {},
   "outputs": [],
   "source": [
    "def ex1():\n",
    "    l1=[1,2,3,4,5,6,7]\n",
    "    x=int(input('number:'))\n",
    "    for i in l1:\n",
    "        if l1[i]==x:\n",
    "            print('present')\n",
    "        else :\n",
    "            l1.append(x)\n",
    "        i=i+1\n",
    "    print(l1)\n",
    "ex1()"
   ]
  },
  {
   "cell_type": "code",
   "execution_count": null,
   "metadata": {},
   "outputs": [],
   "source": [
    "ex1()"
   ]
  },
  {
   "cell_type": "code",
   "execution_count": null,
   "metadata": {},
   "outputs": [],
   "source": [
    "l2=[2,3,4,5]\n",
    "y=int(input('enter num:'))\n",
    "for i in l2:\n",
    "    if l2[i]==y:\n",
    "        print(\"present\")\n",
    "        break\n",
    "    else :\n",
    "        l2.append(y)\n",
    "    i=i+1\n",
    "    "
   ]
  },
  {
   "cell_type": "code",
   "execution_count": null,
   "metadata": {},
   "outputs": [],
   "source": [
    "l3=[1,2,3,4]\n",
    "y=int(input('enter num:'))\n",
    "if y in l3:\n",
    "    print('yess')\n"
   ]
  },
  {
   "cell_type": "code",
   "execution_count": 3,
   "metadata": {},
   "outputs": [
    {
     "name": "stdin",
     "output_type": "stream",
     "text": [
      "number: 9\n"
     ]
    },
    {
     "name": "stdout",
     "output_type": "stream",
     "text": [
      "not present\n",
      "[1, 2, 3, 4, 5, 6, 7, 9]\n"
     ]
    }
   ],
   "source": [
    "def ex1():\n",
    "    l1=[1,2,3,4,5,6,7]\n",
    "    flag=0\n",
    "    x=int(input('number:'))\n",
    "    for i in range(len(l1)):\n",
    "        if l1[i]==x:\n",
    "            flag=1\n",
    "            break\n",
    "        i=i+1\n",
    "    if flag==1:\n",
    "        print('present')\n",
    "    else:\n",
    "        print('not present')\n",
    "        l1.append(x)\n",
    "        print(l1)\n",
    "\n",
    "ex1()"
   ]
  },
  {
   "cell_type": "code",
   "execution_count": 2,
   "metadata": {},
   "outputs": [
    {
     "name": "stdin",
     "output_type": "stream",
     "text": [
      "Enter a element= 33\n"
     ]
    },
    {
     "name": "stdout",
     "output_type": "stream",
     "text": [
      "it is present\n",
      "updated list= ['1', '23', '67', '33', 'hello']\n"
     ]
    }
   ],
   "source": [
    "a=['1','23','67','33',\"hello\"]\n",
    "n=input(\"Enter a element=\")\n",
    "if n in a:\n",
    "    print(\"it is present\")\n",
    "else:\n",
    "    print(\"element not found\")\n",
    "    a.append(n)\n",
    "print(\"updated list=\",a)"
   ]
  },
  {
   "cell_type": "code",
   "execution_count": 3,
   "metadata": {},
   "outputs": [
    {
     "data": {
      "text/plain": [
       "tuple"
      ]
     },
     "execution_count": 3,
     "metadata": {},
     "output_type": "execute_result"
    }
   ],
   "source": [
    "def multipleValues():\n",
    "    return 1,2,3\n",
    "\n",
    "type(multipleValues())"
   ]
  },
  {
   "cell_type": "code",
   "execution_count": 9,
   "metadata": {},
   "outputs": [],
   "source": [
    "a,b,c= multipleValues()"
   ]
  },
  {
   "cell_type": "code",
   "execution_count": 10,
   "metadata": {},
   "outputs": [
    {
     "name": "stdout",
     "output_type": "stream",
     "text": [
      "1\n",
      "2\n",
      "3\n"
     ]
    }
   ],
   "source": [
    "print(a)\n",
    "print(b)\n",
    "print(c)"
   ]
  },
  {
   "cell_type": "code",
   "execution_count": 15,
   "metadata": {},
   "outputs": [],
   "source": [
    "my_dict={\n",
    "    'a':'apple',\n",
    "    'b':'ball',\n",
    "    'c':'cat'\n",
    "}"
   ]
  },
  {
   "cell_type": "code",
   "execution_count": 16,
   "metadata": {},
   "outputs": [
    {
     "data": {
      "text/plain": [
       "'apple'"
      ]
     },
     "execution_count": 16,
     "metadata": {},
     "output_type": "execute_result"
    }
   ],
   "source": [
    "my_dict['a']"
   ]
  },
  {
   "cell_type": "code",
   "execution_count": 17,
   "metadata": {},
   "outputs": [
    {
     "data": {
      "text/plain": [
       "{'a': 'apple', 'b': 'ball', 'c': 'cat', 'd': 'dog'}"
      ]
     },
     "execution_count": 17,
     "metadata": {},
     "output_type": "execute_result"
    }
   ],
   "source": [
    "my_dict['d']='dog'\n",
    "my_dict"
   ]
  },
  {
   "cell_type": "code",
   "execution_count": 19,
   "metadata": {},
   "outputs": [],
   "source": [
    "my_dict['c']='carrot'"
   ]
  },
  {
   "cell_type": "code",
   "execution_count": 20,
   "metadata": {},
   "outputs": [
    {
     "data": {
      "text/plain": [
       "{'a': 'apple', 'b': 'ball', 'c': 'carrot', 'd': 'dog'}"
      ]
     },
     "execution_count": 20,
     "metadata": {},
     "output_type": "execute_result"
    }
   ],
   "source": [
    "my_dict"
   ]
  },
  {
   "cell_type": "code",
   "execution_count": 22,
   "metadata": {},
   "outputs": [
    {
     "data": {
      "text/plain": [
       "dict_keys(['a', 'b', 'c', 'd'])"
      ]
     },
     "execution_count": 22,
     "metadata": {},
     "output_type": "execute_result"
    }
   ],
   "source": [
    "my_dict.keys()"
   ]
  },
  {
   "cell_type": "code",
   "execution_count": 26,
   "metadata": {},
   "outputs": [
    {
     "data": {
      "text/plain": [
       "dict_values(['apple', 'ball', 'carrot', 'dog'])"
      ]
     },
     "execution_count": 26,
     "metadata": {},
     "output_type": "execute_result"
    }
   ],
   "source": [
    "my_dict.values()"
   ]
  },
  {
   "cell_type": "code",
   "execution_count": 29,
   "metadata": {},
   "outputs": [
    {
     "data": {
      "text/plain": [
       "False"
      ]
     },
     "execution_count": 29,
     "metadata": {},
     "output_type": "execute_result"
    }
   ],
   "source": [
    "'ball' in my_dict"
   ]
  },
  {
   "cell_type": "code",
   "execution_count": 30,
   "metadata": {},
   "outputs": [
    {
     "data": {
      "text/plain": [
       "['a', 'b', 'c', 'd']"
      ]
     },
     "execution_count": 30,
     "metadata": {},
     "output_type": "execute_result"
    }
   ],
   "source": [
    "list(my_dict)"
   ]
  },
  {
   "cell_type": "code",
   "execution_count": 31,
   "metadata": {},
   "outputs": [],
   "source": [
    "my=my_dict"
   ]
  },
  {
   "cell_type": "code",
   "execution_count": 34,
   "metadata": {},
   "outputs": [
    {
     "data": {
      "text/plain": [
       "NoneType"
      ]
     },
     "execution_count": 34,
     "metadata": {},
     "output_type": "execute_result"
    }
   ],
   "source": [
    "type(my.get('e'))"
   ]
  },
  {
   "cell_type": "code",
   "execution_count": 35,
   "metadata": {},
   "outputs": [
    {
     "data": {
      "text/plain": [
       "4"
      ]
     },
     "execution_count": 35,
     "metadata": {},
     "output_type": "execute_result"
    }
   ],
   "source": [
    "len(my)"
   ]
  },
  {
   "cell_type": "code",
   "execution_count": 40,
   "metadata": {},
   "outputs": [
    {
     "data": {
      "text/plain": [
       "{'a': ['apple', 'anaconda'], 'b': ['ball']}"
      ]
     },
     "execution_count": 40,
     "metadata": {},
     "output_type": "execute_result"
    }
   ],
   "source": [
    "my={\n",
    "    'a':['apple','anaconda'],\n",
    "    'b':['ball'],\n",
    "}\n",
    "my"
   ]
  },
  {
   "cell_type": "code",
   "execution_count": 85,
   "metadata": {},
   "outputs": [
    {
     "data": {
      "text/plain": [
       "defaultdict(list, {'d': ['dog', 'donkey', 'donkey', 'donkey']})"
      ]
     },
     "execution_count": 85,
     "metadata": {},
     "output_type": "execute_result"
    }
   ],
   "source": [
    "my['d'].append('donkey')\n",
    "my"
   ]
  },
  {
   "cell_type": "code",
   "execution_count": 84,
   "metadata": {},
   "outputs": [],
   "source": [
    "if 'd' not in my:\n",
    "    my['d']=['dog']\n",
    "    print(my)"
   ]
  },
  {
   "cell_type": "code",
   "execution_count": null,
   "metadata": {},
   "outputs": [],
   "source": []
  },
  {
   "cell_type": "code",
   "execution_count": 77,
   "metadata": {},
   "outputs": [],
   "source": [
    "from collections import defaultdict"
   ]
  },
  {
   "cell_type": "code",
   "execution_count": 78,
   "metadata": {},
   "outputs": [],
   "source": [
    "my=defaultdict(list)"
   ]
  },
  {
   "cell_type": "code",
   "execution_count": 86,
   "metadata": {},
   "outputs": [
    {
     "data": {
      "text/plain": [
       "defaultdict(list, {'d': ['dog', 'donkey', 'donkey', 'donkey']})"
      ]
     },
     "execution_count": 86,
     "metadata": {},
     "output_type": "execute_result"
    }
   ],
   "source": [
    "my"
   ]
  },
  {
   "cell_type": "markdown",
   "metadata": {},
   "source": [
    "##### list comprehension"
   ]
  },
  {
   "cell_type": "code",
   "execution_count": 1,
   "metadata": {},
   "outputs": [
    {
     "data": {
      "text/plain": [
       "[2, 4, 6, 8, 10]"
      ]
     },
     "execution_count": 1,
     "metadata": {},
     "output_type": "execute_result"
    }
   ],
   "source": [
    "l1=[1,2,3,4,5]\n",
    "[2*item for item in l1]"
   ]
  },
  {
   "cell_type": "code",
   "execution_count": 4,
   "metadata": {},
   "outputs": [
    {
     "data": {
      "text/plain": [
       "[1, 2]"
      ]
     },
     "execution_count": 4,
     "metadata": {},
     "output_type": "execute_result"
    }
   ],
   "source": [
    "flist = [item for item in l1 if item % 10<3]\n",
    "flist"
   ]
  },
  {
   "cell_type": "code",
   "execution_count": 19,
   "metadata": {},
   "outputs": [
    {
     "name": "stdout",
     "output_type": "stream",
     "text": [
      "['I', 'am', 'sanal.', 'I', 'live', 'in', 'palakkad.', \"I'm\", 'an', 'engineering', 'student.']\n",
      "['I am sanal', ' I live in palakkad', \" I'm an engineering student\", '']\n"
     ]
    }
   ],
   "source": [
    "str1='I am sanal. I live in palakkad. I\\'m an engineering student.'\n",
    "print(str1.split())\n",
    "print(str1.split('.'))"
   ]
  },
  {
   "cell_type": "code",
   "execution_count": 23,
   "metadata": {},
   "outputs": [
    {
     "data": {
      "text/plain": [
       "['I am sanal', 'I live in palakkad', \"I'm an engineering student\", '']"
      ]
     },
     "execution_count": 23,
     "metadata": {},
     "output_type": "execute_result"
    }
   ],
   "source": [
    "str1='I am sanal.I live in palakkad.I\\'m an engineering student.'\n",
    "s1=str1.split('.')\n",
    "s1"
   ]
  },
  {
   "cell_type": "code",
   "execution_count": 24,
   "metadata": {},
   "outputs": [
    {
     "name": "stdout",
     "output_type": "stream",
     "text": [
      "[\"['I\", 'am', \"sanal',\", \"'I\", 'live', 'in', \"palakkad',\", '\"I\\'m', 'an', 'engineering', 'student\",', \"'']\"]\n"
     ]
    }
   ],
   "source": [
    "s2=str(s1)\n",
    "print(s2.split())"
   ]
  },
  {
   "cell_type": "code",
   "execution_count": 6,
   "metadata": {},
   "outputs": [
    {
     "data": {
      "text/plain": [
       "(1, 2, 3)"
      ]
     },
     "execution_count": 6,
     "metadata": {},
     "output_type": "execute_result"
    }
   ],
   "source": [
    "a=1,2,3\n",
    "a"
   ]
  },
  {
   "cell_type": "code",
   "execution_count": 16,
   "metadata": {},
   "outputs": [
    {
     "name": "stdout",
     "output_type": "stream",
     "text": [
      "['I', 'AM', 'SANAL', 'I', 'LIVE', 'IN', 'PALAKKAD', \"I'M\", 'AN', 'ENGINEERING', 'STUDENT']\n"
     ]
    }
   ],
   "source": [
    "def cleanWord(word):\n",
    "    return word.replace('.','').upper()\n",
    "print([cleanWord(word) for word in str1.split()])"
   ]
  },
  {
   "cell_type": "code",
   "execution_count": 18,
   "metadata": {},
   "outputs": [
    {
     "name": "stdout",
     "output_type": "stream",
     "text": [
      "['I', 'AM', 'I', 'IN', 'AN']\n"
     ]
    }
   ],
   "source": [
    "def cleanWord(word):\n",
    "    return word.replace('.','').upper()\n",
    "print([cleanWord(word) for word in str1.split() if len(cleanWord(word))<3])"
   ]
  },
  {
   "cell_type": "code",
   "execution_count": 20,
   "metadata": {},
   "outputs": [
    {
     "name": "stdout",
     "output_type": "stream",
     "text": [
      "[['I', 'AM', 'SANAL'], ['I', 'LIVE', 'IN', 'PALAKKAD'], [\"I'M\", 'AN', 'ENGINEERING', 'STUDENT'], []]\n"
     ]
    }
   ],
   "source": [
    "print([[cleanWord(word) for word in sentance.split()] for sentance in str1.split('.')])"
   ]
  },
  {
   "cell_type": "code",
   "execution_count": 21,
   "metadata": {},
   "outputs": [
    {
     "data": {
      "text/plain": [
       "\"I am sanal. I live in palakkad. I'm an engineering student.\""
      ]
     },
     "execution_count": 21,
     "metadata": {},
     "output_type": "execute_result"
    }
   ],
   "source": [
    "str1"
   ]
  },
  {
   "cell_type": "markdown",
   "metadata": {},
   "source": [
    "##### dictionary comprehension"
   ]
  },
  {
   "cell_type": "code",
   "execution_count": 78,
   "metadata": {},
   "outputs": [
    {
     "data": {
      "text/plain": [
       "{'a': 'apple', 'b': 'ball', 'c': 'cat'}"
      ]
     },
     "execution_count": 78,
     "metadata": {},
     "output_type": "execute_result"
    }
   ],
   "source": [
    "l1=[('a','apple'),('b','ball'),('c','cat')]\n",
    "dict={key:value for key,value in l1}\n",
    "dict"
   ]
  },
  {
   "cell_type": "code",
   "execution_count": 39,
   "metadata": {},
   "outputs": [
    {
     "data": {
      "text/plain": [
       "[('a', 'apple'), ('b', 'ball'), ('c', 'cat')]"
      ]
     },
     "execution_count": 39,
     "metadata": {},
     "output_type": "execute_result"
    }
   ],
   "source": [
    "list(dict.items())"
   ]
  },
  {
   "cell_type": "code",
   "execution_count": 41,
   "metadata": {},
   "outputs": [
    {
     "data": {
      "text/plain": [
       "[{'letter ': 'a', 'name': 'apple'},\n",
       " {'letter ': 'b', 'name': 'ball'},\n",
       " {'letter ': 'c', 'name': 'cat'}]"
      ]
     },
     "execution_count": 41,
     "metadata": {},
     "output_type": "execute_result"
    }
   ],
   "source": [
    "[{'letter ' : key,'name' : value} for key,value in dict.items() ]"
   ]
  },
  {
   "cell_type": "code",
   "execution_count": 43,
   "metadata": {},
   "outputs": [
    {
     "data": {
      "text/plain": [
       "23423"
      ]
     },
     "execution_count": 43,
     "metadata": {},
     "output_type": "execute_result"
    }
   ],
   "source": [
    "n=23423\n",
    "a='fuzz' if n % 3 == 0 else 'buzz' if n % 7 == 0 else n\n",
    "a"
   ]
  },
  {
   "cell_type": "markdown",
   "metadata": {},
   "source": [
    "##### while"
   ]
  },
  {
   "cell_type": "code",
   "execution_count": 44,
   "metadata": {},
   "outputs": [],
   "source": [
    "from datetime import datetime"
   ]
  },
  {
   "cell_type": "code",
   "execution_count": 47,
   "metadata": {},
   "outputs": [
    {
     "data": {
      "text/plain": [
       "52"
      ]
     },
     "execution_count": 47,
     "metadata": {},
     "output_type": "execute_result"
    }
   ],
   "source": [
    "datetime.now().second"
   ]
  },
  {
   "cell_type": "code",
   "execution_count": 48,
   "metadata": {},
   "outputs": [
    {
     "data": {
      "text/plain": [
       "19"
      ]
     },
     "execution_count": 48,
     "metadata": {},
     "output_type": "execute_result"
    }
   ],
   "source": [
    "datetime.now().second +2"
   ]
  },
  {
   "cell_type": "code",
   "execution_count": null,
   "metadata": {},
   "outputs": [],
   "source": [
    "w=(datetime.now().second)%60\n",
    "print(w)\n",
    "while datetime.now().second != w+1:\n",
    "    print('stil waiting')\n",
    "print(f'we are at{w+1} seconds') "
   ]
  },
  {
   "cell_type": "code",
   "execution_count": null,
   "metadata": {},
   "outputs": [],
   "source": [
    "w=(datetime.now().second +2)\n",
    "print(w)\n",
    "while datetime.now().second != w:\n",
    "    print(datetime.now().second)\n",
    "    pass\n",
    "print(f'we are at{w} seconds') "
   ]
  },
  {
   "cell_type": "code",
   "execution_count": 73,
   "metadata": {},
   "outputs": [
    {
     "name": "stdout",
     "output_type": "stream",
     "text": [
      "27\n",
      "current time= 22\n",
      "we are at25 seconds\n"
     ]
    }
   ],
   "source": [
    "w=(datetime.now().second +5)%60\n",
    "print(w)\n",
    "print('current time=',datetime.now().second) \n",
    "while True: \n",
    "    if datetime.now().second == w:\n",
    "        print(f'we are at{w} seconds') \n",
    "        break\n",
    "    if datetime.now().second == w-1:\n",
    "        print(f'we are at{w-1} seconds') \n",
    "        break\n",
    "    if datetime.now().second == w-2:\n",
    "        print(f'we are at{w-2} seconds') \n",
    "        break"
   ]
  },
  {
   "cell_type": "code",
   "execution_count": 74,
   "metadata": {},
   "outputs": [
    {
     "name": "stdout",
     "output_type": "stream",
     "text": [
      "53\n",
      "we are at53 seconds\n"
     ]
    }
   ],
   "source": [
    "w=(datetime.now().second +2)\n",
    "print(w)\n",
    "while datetime.now().second != w:\n",
    "    continue\n",
    "print(f'we are at{w} seconds') "
   ]
  },
  {
   "cell_type": "markdown",
   "metadata": {},
   "source": [
    "##### for "
   ]
  },
  {
   "cell_type": "code",
   "execution_count": 77,
   "metadata": {},
   "outputs": [
    {
     "name": "stdout",
     "output_type": "stream",
     "text": [
      "1\n",
      "2\n",
      "5\n",
      "8\n",
      "7\n",
      "1\n",
      "2\n"
     ]
    }
   ],
   "source": [
    "myList=[1,2,5,8,7,1,2]\n",
    "for x in myList:\n",
    "    print(x)"
   ]
  },
  {
   "cell_type": "code",
   "execution_count": 81,
   "metadata": {},
   "outputs": [
    {
     "name": "stdout",
     "output_type": "stream",
     "text": [
      "letter=a word=apple\n",
      "letter=b word=ball\n",
      "letter=c word=cat\n"
     ]
    }
   ],
   "source": [
    "dict={'a': 'apple', 'b': 'ball', 'c': 'cat'}\n",
    "for i,j in dict.items():\n",
    "    print(f'letter={i} word={j}')"
   ]
  },
  {
   "cell_type": "code",
   "execution_count": 82,
   "metadata": {},
   "outputs": [
    {
     "name": "stdout",
     "output_type": "stream",
     "text": [
      "Found:\n",
      " lettera wordapple\n"
     ]
    }
   ],
   "source": [
    "dict={'a': 'apple', 'b': 'ball', 'c': 'cat'}\n",
    "for i,j in dict.items():\n",
    "    if len(j)>1:\n",
    "        print(f'Found:\\n letter : {i} word : {j}')\n",
    "        break\n",
    "    print(f'letter={i} word={j}')"
   ]
  },
  {
   "cell_type": "code",
   "execution_count": 2,
   "metadata": {},
   "outputs": [
    {
     "data": {
      "text/plain": [
       "[1, 2, 3, 4, 8]"
      ]
     },
     "execution_count": 2,
     "metadata": {},
     "output_type": "execute_result"
    }
   ],
   "source": [
    "s=[2,1,8,4,3]\n",
    "sorted(s)"
   ]
  },
  {
   "cell_type": "code",
   "execution_count": 65,
   "metadata": {},
   "outputs": [
    {
     "name": "stdout",
     "output_type": "stream",
     "text": [
      "words:\n",
      " {'punctuate', 'is', 'here', \"i'm\", 'gonna', 'the', 'and', 'it', 'edit', 'sentance', 'rewrite', 'first'} \n",
      "long words:\n",
      " {'punctuate', 'here', 'gonna', 'edit', 'sentance', 'rewrite', 'first'} \n",
      "short words:\n",
      " {'', 'is', \"i'm\", 'the', 'and', 'it'}\n",
      "words:\n",
      " {'i', 'this', 'is', 'tiger', 'lion', 'here', 'changing', 'the', 'second', 'it', 'am', 'sentance', 'to', 'first', 'typing'} \n",
      "long words:\n",
      " {'this', 'tiger', 'lion', 'here', 'changing', 'second', 'sentance', 'first', 'typing'} \n",
      "short words:\n",
      " {'', 'i', 'is', 'the', 'it', 'am', 'to'}\n"
     ]
    }
   ],
   "source": [
    "class WordSet:\n",
    "    def __init__(self):\n",
    "        self.words=set()\n",
    "        self.lwords=set()\n",
    "        self.swords=set()\n",
    "\n",
    "    def addText(self,text):\n",
    "        text=WordSet.cleanText(self,text)\n",
    "        for word in text.split():\n",
    "            self.words.add(word)\n",
    "        WordSet.longtext(self,text)\n",
    "        WordSet.shorttext(self,text)\n",
    "        print('words:\\n',self.words,'\\nlong words:\\n',self.lwords,'\\nshort words:\\n',self.swords)\n",
    "\n",
    "    def cleanText(self,text):\n",
    "        text=text.replace('.',' ').replace(',',' ').replace('\\n',' ')\n",
    "        return text.lower()\n",
    "        \n",
    "    def longtext(self,text):\n",
    "        for word in text.split(' '):\n",
    "            if len(word) > 3:\n",
    "                self.lwords.add(word)\n",
    "\n",
    "    def shorttext(self,text):\n",
    "        for word in text.split(' '):\n",
    "            if len(word) <= 3:\n",
    "                self.swords.add(word)\n",
    "\n",
    "\n",
    "obj1=WordSet()\n",
    "obj1.addText('Here is the first sentance. I\\'m gonna edit,punctuate and rewrite it.')\n",
    "obj2=WordSet()\n",
    "obj2.addText('''This is the first sentance,\n",
    "this is the second sentance. here i am typing Tiger\n",
    "here i am changing it to lion''')"
   ]
  },
  {
   "cell_type": "code",
   "execution_count": 36,
   "metadata": {},
   "outputs": [
    {
     "name": "stdout",
     "output_type": "stream",
     "text": [
      "helloo how are u. i am fine thank u.\n",
      "{'how', 'fine', 'thank', 'are', 'helloo'}\n"
     ]
    }
   ],
   "source": [
    "lwords=set()\n",
    "def ltext(text):\n",
    "    print(text)\n",
    "    for word in text.split(' '):\n",
    "        if len(word) > 2 :\n",
    "            lwords.add(word)\n",
    "    return lwords\n",
    "a='helloo how are u. i am fine thank u.'\n",
    "b=ltext(a)\n",
    "print(b)"
   ]
  },
  {
   "cell_type": "code",
   "execution_count": 2,
   "metadata": {},
   "outputs": [],
   "source": [
    "import time"
   ]
  },
  {
   "cell_type": "code",
   "execution_count": 3,
   "metadata": {},
   "outputs": [
    {
     "name": "stdout",
     "output_type": "stream",
     "text": [
      "function took 0.20089316368103027 seconds to execute\n"
     ]
    },
    {
     "data": {
      "text/plain": [
       "'11'"
      ]
     },
     "execution_count": 3,
     "metadata": {},
     "output_type": "execute_result"
    }
   ],
   "source": [
    "def causeError():\n",
    "    start = time.time()\n",
    "    try :\n",
    "        time.sleep(0.2)\n",
    "        return '1' + '1'\n",
    "    except Exception as e:\n",
    "        print('Exception has occured\\n')\n",
    "        return e\n",
    "    finally:\n",
    "        print(f'function took {time.time() - start} seconds to execute')\n",
    "\n",
    "causeError()"
   ]
  },
  {
   "cell_type": "code",
   "execution_count": 4,
   "metadata": {},
   "outputs": [
    {
     "name": "stdout",
     "output_type": "stream",
     "text": [
      "no 4 speaks\n",
      "  9 \n",
      " -1 \n",
      " 20\n"
     ]
    }
   ],
   "source": [
    "class Exception:\n",
    "    def __init__(self,n):\n",
    "        self.ex= n\n",
    "    def speak(self):\n",
    "        print(f'no {self.ex} speaks')\n",
    "    def number(self):\n",
    "        a=self.ex\n",
    "        number=a+5\n",
    "        n2=a-5\n",
    "        n3=a*5\n",
    "        print(' ',number,'\\n',n2,'\\n',n3)\n",
    "exp= Exception(4)\n",
    "exp.speak()\n",
    "exp.number()"
   ]
  },
  {
   "cell_type": "code",
   "execution_count": 13,
   "metadata": {},
   "outputs": [
    {
     "name": "stdout",
     "output_type": "stream",
     "text": [
      "11\n",
      "-3\n",
      "48\n",
      "5.333333333333333\n",
      "64\n",
      "2.0\n"
     ]
    }
   ],
   "source": [
    "class cls:\n",
    "    def __init__(self,a,b,c):\n",
    "        self.a=a\n",
    "        self.b=b\n",
    "        self.c=c\n",
    "    def add(self):\n",
    "        a=self.a\n",
    "        b=self.b\n",
    "        c=self.c\n",
    "        sum=a+b+c\n",
    "        print(sum)\n",
    "    def sub(self):\n",
    "        a=self.a\n",
    "        b=self.b\n",
    "        c=self.c\n",
    "        diff=a-b-c\n",
    "        print(diff)\n",
    "    def product(self):\n",
    "        a=self.a\n",
    "        b=self.b\n",
    "        c=self.c\n",
    "        prod=a*b*c\n",
    "        print(prod)\n",
    "    def div(self):\n",
    "        a=self.a\n",
    "        b=self.b\n",
    "        c=self.c\n",
    "        div=a/(b/c)\n",
    "        print(div)\n",
    "    def power(self):\n",
    "        a=self.a\n",
    "        b=self.b\n",
    "        pow=a**b\n",
    "        print(pow)\n",
    "    def root(self):\n",
    "        a=self.a\n",
    "        r=a**(0.5)\n",
    "        print(r)\n",
    "    \n",
    "\n",
    "op1=cls(4,3,4)\n",
    "op1.add()\n",
    "op1.sub()\n",
    "op1.product()\n",
    "op1.div()\n",
    "op1.power()\n",
    "op1.root()"
   ]
  },
  {
   "cell_type": "code",
   "execution_count": 8,
   "metadata": {},
   "outputs": [
    {
     "name": "stdout",
     "output_type": "stream",
     "text": [
      "Exception is division by zero\n",
      "This will always print\n"
     ]
    }
   ],
   "source": [
    "def exp():\n",
    "    try:\n",
    "        return 1/0\n",
    "    except Exception as e:\n",
    "        print(f'Exception is {e}')\n",
    "    finally:\n",
    "        print('This will always print')\n",
    "exp()"
   ]
  },
  {
   "cell_type": "code",
   "execution_count": 11,
   "metadata": {},
   "outputs": [
    {
     "name": "stdout",
     "output_type": "stream",
     "text": [
      "['this', 'is', 'a', 'multiline', 'string,', '\\n', 'this', 'is', 'the', 'second', 'line.', '\\n', 'and', 'this', 'is', 'the', 'third', 'line.']\n",
      "['THIS', 'IS', 'A', 'MULTILINE', 'STRING,', '\\n', 'THIS', 'IS', 'THE', 'SECOND', 'LINE.', '\\n', 'AND', 'THIS', 'IS', 'THE', 'THIRD', 'LINE.']\n"
     ]
    }
   ],
   "source": [
    "a='''this is a multiline string, \n",
    " this is the second line. \n",
    " and this is the third line.'''\n",
    "print(a.split(' '))\n",
    "b=a.upper().split(' ')\n",
    "print(b)"
   ]
  },
  {
   "cell_type": "code",
   "execution_count": 16,
   "metadata": {},
   "outputs": [
    {
     "name": "stdout",
     "output_type": "stream",
     "text": [
      "Intersection :  [4, 5, 6]\n",
      "Union :  {1, 2, 3, 4, 5, 6, 7}\n"
     ]
    }
   ],
   "source": [
    "a=[1,2,3,4,5,6]\n",
    "b=[4,5,6,7]\n",
    "c=[]\n",
    "for i in a :\n",
    "    for j in b:\n",
    "        if i == j:\n",
    "            c.append(i)\n",
    "\n",
    "print('Intersection : ',c)\n",
    "d=set(a+b)\n",
    "print('Union : ',d)\n"
   ]
  },
  {
   "cell_type": "code",
   "execution_count": null,
   "metadata": {},
   "outputs": [],
   "source": []
  }
 ],
 "metadata": {
  "kernelspec": {
   "display_name": "Python 3 (ipykernel)",
   "language": "python",
   "name": "python3"
  },
  "language_info": {
   "codemirror_mode": {
    "name": "ipython",
    "version": 3
   },
   "file_extension": ".py",
   "mimetype": "text/x-python",
   "name": "python",
   "nbconvert_exporter": "python",
   "pygments_lexer": "ipython3",
   "version": "3.12.4"
  }
 },
 "nbformat": 4,
 "nbformat_minor": 4
}
